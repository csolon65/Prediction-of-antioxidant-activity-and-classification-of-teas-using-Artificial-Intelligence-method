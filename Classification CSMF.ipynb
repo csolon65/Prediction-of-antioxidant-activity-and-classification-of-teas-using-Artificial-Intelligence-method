{
  "nbformat": 4,
  "nbformat_minor": 0,
  "metadata": {
    "colab": {
      "provenance": []
    },
    "kernelspec": {
      "name": "python3",
      "display_name": "Python 3"
    },
    "language_info": {
      "name": "python"
    }
  },
  "cells": [
    {
      "cell_type": "code",
      "execution_count": null,
      "metadata": {
        "colab": {
          "base_uri": "https://localhost:8080/"
        },
        "id": "FRdsBa-Yygtp",
        "outputId": "5d81060e-e5b3-4426-cf1d-783547c734b5"
      },
      "outputs": [
        {
          "output_type": "stream",
          "name": "stdout",
          "text": [
            "Drive already mounted at /content/drive; to attempt to forcibly remount, call drive.mount(\"/content/drive\", force_remount=True).\n"
          ]
        }
      ],
      "source": [
        "import numpy as np\n",
        "import matplotlib.pyplot as plt\n",
        "import seaborn as sns\n",
        "from PIL import Image\n",
        "import tensorflow as tf\n",
        "from sklearn.utils import shuffle\n",
        "from tensorflow.keras.models import Sequential\n",
        "from tensorflow.keras.layers import Conv1D, MaxPooling1D, Flatten, Dense, Dropout, LSTM, GlobalAveragePooling1D\n",
        "from tensorflow import keras\n",
        "from tensorflow.keras import layers\n",
        "from tensorflow.keras.preprocessing.sequence import pad_sequences\n",
        "from sklearn.preprocessing import LabelEncoder, StandardScaler\n",
        "from sklearn.model_selection import train_test_split\n",
        "from sklearn.metrics import confusion_matrix\n",
        "import pandas as pd\n",
        "from tensorflow.keras.layers import Flatten, Dense\n",
        "from sklearn.preprocessing import StandardScaler\n",
        "from tensorflow.keras.utils import to_categorical\n",
        "\n",
        "# Montage du Google Drive\n",
        "from google.colab import drive\n",
        "drive.mount('/content/drive')\n",
        "directory_path = \"/content/drive/My Drive/\"\n"
      ]
    },
    {
      "cell_type": "code",
      "source": [
        "# Chargement des fichiers csv depuis le drive\n",
        "\n",
        "vert_2301_names = []\n",
        "for i in range(1, 30):\n",
        "    vert_2301_names.append(f\"V{i} 230 1\")\n",
        "\n",
        "# Afficher la liste complète\n",
        "print(vert_2301_names)\n",
        "\n",
        "vert_2302_names = []\n",
        "for i in range(1, 30):\n",
        "    vert_2302_names.append(f\"V{i} 230 2\")\n",
        "\n",
        "# Afficher la liste complète\n",
        "print(vert_2302_names)\n",
        "\n",
        "vert_517_names = []\n",
        "for i in range(1, 30):\n",
        "    vert_517_names.append(f\"V{i} 517\")\n",
        "\n",
        "# Afficher la liste complète\n",
        "print(vert_517_names)\n",
        "\n"
      ],
      "metadata": {
        "colab": {
          "base_uri": "https://localhost:8080/"
        },
        "id": "KCpNQ9A4yncS",
        "outputId": "c2861b22-154a-4784-8a8d-1b4bf32cd4f4"
      },
      "execution_count": null,
      "outputs": [
        {
          "output_type": "stream",
          "name": "stdout",
          "text": [
            "['V1 230 1', 'V2 230 1', 'V3 230 1', 'V4 230 1', 'V5 230 1', 'V6 230 1', 'V7 230 1', 'V8 230 1', 'V9 230 1', 'V10 230 1', 'V11 230 1', 'V12 230 1', 'V13 230 1', 'V14 230 1', 'V15 230 1', 'V16 230 1', 'V17 230 1', 'V18 230 1', 'V19 230 1', 'V20 230 1', 'V21 230 1', 'V22 230 1', 'V23 230 1', 'V24 230 1', 'V25 230 1', 'V26 230 1', 'V27 230 1', 'V28 230 1', 'V29 230 1']\n",
            "['V1 230 2', 'V2 230 2', 'V3 230 2', 'V4 230 2', 'V5 230 2', 'V6 230 2', 'V7 230 2', 'V8 230 2', 'V9 230 2', 'V10 230 2', 'V11 230 2', 'V12 230 2', 'V13 230 2', 'V14 230 2', 'V15 230 2', 'V16 230 2', 'V17 230 2', 'V18 230 2', 'V19 230 2', 'V20 230 2', 'V21 230 2', 'V22 230 2', 'V23 230 2', 'V24 230 2', 'V25 230 2', 'V26 230 2', 'V27 230 2', 'V28 230 2', 'V29 230 2']\n",
            "['V1 517', 'V2 517', 'V3 517', 'V4 517', 'V5 517', 'V6 517', 'V7 517', 'V8 517', 'V9 517', 'V10 517', 'V11 517', 'V12 517', 'V13 517', 'V14 517', 'V15 517', 'V16 517', 'V17 517', 'V18 517', 'V19 517', 'V20 517', 'V21 517', 'V22 517', 'V23 517', 'V24 517', 'V25 517', 'V26 517', 'V27 517', 'V28 517', 'V29 517']\n"
          ]
        }
      ]
    },
    {
      "cell_type": "code",
      "source": [
        "# Chargement des fichiers csv depuis le drive\n",
        "\n",
        "noir_2301_names = []\n",
        "for i in range(1, 22):\n",
        "    noir_2301_names.append(f\"N{i} 230 1\")\n",
        "\n",
        "# Afficher la liste complète\n",
        "print(noir_2301_names)\n",
        "\n",
        "noir_2302_names = []\n",
        "for i in range(1, 22):\n",
        "    noir_2302_names.append(f\"N{i} 230 2\")\n",
        "\n",
        "# Afficher la liste complète\n",
        "print(noir_2302_names)\n",
        "\n",
        "noir_517_names = []\n",
        "for i in range(1, 22):\n",
        "    noir_517_names.append(f\"N{i} 517\")\n",
        "\n",
        "# Afficher la liste complète\n",
        "print(noir_517_names)\n"
      ],
      "metadata": {
        "colab": {
          "base_uri": "https://localhost:8080/"
        },
        "id": "oq5OqaGM6tun",
        "outputId": "6a598b3e-b54b-4e58-b6b3-e5b06bfa6d76"
      },
      "execution_count": null,
      "outputs": [
        {
          "output_type": "stream",
          "name": "stdout",
          "text": [
            "['N1 230 1', 'N2 230 1', 'N3 230 1', 'N4 230 1', 'N5 230 1', 'N6 230 1', 'N7 230 1', 'N8 230 1', 'N9 230 1', 'N10 230 1', 'N11 230 1', 'N12 230 1', 'N13 230 1', 'N14 230 1', 'N15 230 1', 'N16 230 1', 'N17 230 1', 'N18 230 1', 'N19 230 1', 'N20 230 1', 'N21 230 1']\n",
            "['N1 230 2', 'N2 230 2', 'N3 230 2', 'N4 230 2', 'N5 230 2', 'N6 230 2', 'N7 230 2', 'N8 230 2', 'N9 230 2', 'N10 230 2', 'N11 230 2', 'N12 230 2', 'N13 230 2', 'N14 230 2', 'N15 230 2', 'N16 230 2', 'N17 230 2', 'N18 230 2', 'N19 230 2', 'N20 230 2', 'N21 230 2']\n",
            "['N1 517', 'N2 517', 'N3 517', 'N4 517', 'N5 517', 'N6 517', 'N7 517', 'N8 517', 'N9 517', 'N10 517', 'N11 517', 'N12 517', 'N13 517', 'N14 517', 'N15 517', 'N16 517', 'N17 517', 'N18 517', 'N19 517', 'N20 517', 'N21 517']\n"
          ]
        }
      ]
    },
    {
      "cell_type": "code",
      "source": [
        "# Chargement des fichiers csv depuis le drive\n",
        "\n",
        "blanc_2301_names = []\n",
        "for i in range(1, 11):\n",
        "    blanc_2301_names.append(f\"B{i} 230 1\")\n",
        "\n",
        "# Afficher la liste complète\n",
        "print(blanc_2301_names)\n",
        "\n",
        "blanc_2302_names = []\n",
        "for i in range(1,11):\n",
        "    blanc_2302_names.append(f\"B{i} 230 2\")\n",
        "\n",
        "# Afficher la liste complète\n",
        "print(blanc_2302_names)\n",
        "\n",
        "blanc_517_names = []\n",
        "for i in range(1,11):\n",
        "    blanc_517_names.append(f\"B{i} 517\")\n",
        "\n",
        "# Afficher la liste complète\n",
        "print(blanc_517_names)\n"
      ],
      "metadata": {
        "colab": {
          "base_uri": "https://localhost:8080/"
        },
        "id": "RvdffFF86ub_",
        "outputId": "ec97cc4e-2c7e-4bf9-ae50-babe05bec17b"
      },
      "execution_count": null,
      "outputs": [
        {
          "output_type": "stream",
          "name": "stdout",
          "text": [
            "['B1 230 1', 'B2 230 1', 'B3 230 1', 'B4 230 1', 'B5 230 1', 'B6 230 1', 'B7 230 1', 'B8 230 1', 'B9 230 1', 'B10 230 1']\n",
            "['B1 230 2', 'B2 230 2', 'B3 230 2', 'B4 230 2', 'B5 230 2', 'B6 230 2', 'B7 230 2', 'B8 230 2', 'B9 230 2', 'B10 230 2']\n",
            "['B1 517', 'B2 517', 'B3 517', 'B4 517', 'B5 517', 'B6 517', 'B7 517', 'B8 517', 'B9 517', 'B10 517']\n"
          ]
        }
      ]
    },
    {
      "cell_type": "code",
      "source": [
        "# Dictionnaire pour stocker les DataFrames de chaque fichier CSV\n",
        "vert_2301 = {}\n",
        "\n",
        "# Importer chaque fichier CSV dans un DataFrame et stocker dans le dictionnaire\n",
        "for nom_fichier in vert_2301_names:\n",
        "    vert_2301[nom_fichier] = pd.read_csv(\"/content/drive/My Drive/vert/\" + nom_fichier + \".CSV\", delimiter = ';', index_col = 0, header = None)\n",
        "\n",
        "# Dictionnaire pour stocker les DataFrames de chaque fichier CSV\n",
        "vert_2302 = {}\n",
        "\n",
        "# Importer chaque fichier CSV dans un DataFrame et stocker dans le dictionnaire\n",
        "for nom_fichier in vert_2302_names:\n",
        "    vert_2302[nom_fichier] = pd.read_csv(\"/content/drive/My Drive/vert/\" + nom_fichier + \".CSV\", delimiter = ';', index_col = 0, header = None)\n",
        "\n",
        "# Dictionnaire pour stocker les DataFrames de chaque fichier CSV\n",
        "vert_517 = {}\n",
        "\n",
        "# Importer chaque fichier CSV dans un DataFrame et stocker dans le dictionnaire\n",
        "for nom_fichier in vert_517_names:\n",
        "    vert_517[nom_fichier] = pd.read_csv(\"/content/drive/My Drive/vert/\" + nom_fichier + \".CSV\", delimiter = ';', index_col = 0, header = None)\n"
      ],
      "metadata": {
        "id": "BYeMRbMV4mX9"
      },
      "execution_count": null,
      "outputs": []
    },
    {
      "cell_type": "code",
      "source": [
        "# Dictionnaire pour stocker les DataFrames de chaque fichier CSV\n",
        "noir_2301 = {}\n",
        "\n",
        "# Importer chaque fichier CSV dans un DataFrame et stocker dans le dictionnaire\n",
        "for nom_fichier in noir_2301_names:\n",
        "    noir_2301[nom_fichier] = pd.read_csv(\"/content/drive/My Drive/noir/\" + nom_fichier + \".CSV\", delimiter = ';', index_col = 0, header = None)\n",
        "\n",
        "# Dictionnaire pour stocker les DataFrames de chaque fichier CSV\n",
        "noir_2302 = {}\n",
        "\n",
        "# Importer chaque fichier CSV dans un DataFrame et stocker dans le dictionnaire\n",
        "for nom_fichier in noir_2302_names:\n",
        "    noir_2302[nom_fichier] = pd.read_csv(\"/content/drive/My Drive/noir/\" + nom_fichier + \".CSV\", delimiter = ';', index_col = 0, header = None)\n",
        "\n",
        "# Dictionnaire pour stocker les DataFrames de chaque fichier CSV\n",
        "noir_517 = {}\n",
        "\n",
        "# Importer chaque fichier CSV dans un DataFrame et stocker dans le dictionnaire\n",
        "for nom_fichier in noir_517_names:\n",
        "    noir_517[nom_fichier] = pd.read_csv(\"/content/drive/My Drive/noir/\" + nom_fichier + \".CSV\", delimiter = ';', index_col = 0, header = None)\n"
      ],
      "metadata": {
        "id": "Spch7laP7tv6"
      },
      "execution_count": null,
      "outputs": []
    },
    {
      "cell_type": "code",
      "source": [
        "# Dictionnaire pour stocker les DataFrames de chaque fichier CSV\n",
        "blanc_2301 = {}\n",
        "\n",
        "# Importer chaque fichier CSV dans un DataFrame et stocker dans le dictionnaire\n",
        "for nom_fichier in blanc_2301_names:\n",
        "    blanc_2301[nom_fichier] = pd.read_csv(\"/content/drive/My Drive/blanc/\" + nom_fichier + \".CSV\", delimiter = ';', index_col = 0, header = None)\n",
        "\n",
        "# Dictionnaire pour stocker les DataFrames de chaque fichier CSV\n",
        "blanc_2302 = {}\n",
        "\n",
        "# Importer chaque fichier CSV dans un DataFrame et stocker dans le dictionnaire\n",
        "for nom_fichier in blanc_2302_names:\n",
        "    blanc_2302[nom_fichier] = pd.read_csv(\"/content/drive/My Drive/blanc/\" + nom_fichier + \".CSV\", delimiter = ';', index_col = 0, header = None)\n",
        "\n",
        "# Dictionnaire pour stocker les DataFrames de chaque fichier CSV\n",
        "blanc_517 = {}\n",
        "\n",
        "# Importer chaque fichier CSV dans un DataFrame et stocker dans le dictionnaire\n",
        "for nom_fichier in blanc_517_names:\n",
        "    blanc_517[nom_fichier] = pd.read_csv(\"/content/drive/My Drive/blanc/\" + nom_fichier + \".CSV\", delimiter = ';', index_col = 0, header = None)\n"
      ],
      "metadata": {
        "id": "AlijsAGs7uaR"
      },
      "execution_count": null,
      "outputs": []
    },
    {
      "cell_type": "code",
      "source": [
        "# Créer un nouveau dictionnaire pour stocker la fusion des trois dictionnaires\n",
        "vert = {}\n",
        "\n",
        "# Concaténer les trois dictionnaires\n",
        "vert.update(vert_2301)\n",
        "vert.update(vert_2302)\n",
        "vert.update(vert_517)\n",
        "\n",
        "# Créer un nouveau dictionnaire pour stocker la fusion des trois dictionnaires\n",
        "noir = {}\n",
        "\n",
        "# Concaténer les trois dictionnaires\n",
        "noir.update(noir_2301)\n",
        "noir.update(noir_2302)\n",
        "noir.update(noir_517)\n",
        "\n",
        "# Créer un nouveau dictionnaire pour stocker la fusion des trois dictionnaires\n",
        "blanc = {}\n",
        "\n",
        "# Concaténer les trois dictionnaires\n",
        "blanc.update(blanc_2301)\n",
        "blanc.update(blanc_2302)\n",
        "blanc.update(blanc_517)\n"
      ],
      "metadata": {
        "id": "uN296JSb62Dx"
      },
      "execution_count": null,
      "outputs": []
    },
    {
      "cell_type": "code",
      "source": [
        "the = {}\n",
        "\n",
        "the.update(vert)\n",
        "the.update(noir)\n",
        "the.update(blanc)\n"
      ],
      "metadata": {
        "id": "hQS4RjCE-wau"
      },
      "execution_count": null,
      "outputs": []
    },
    {
      "cell_type": "code",
      "source": [
        "the230 = {}\n",
        "\n",
        "the230.update(vert_2301)\n",
        "the230.update(noir_2301)\n",
        "the230.update(blanc_2301)\n",
        "\n",
        "\n",
        "# Créer un nouveau dictionnaire pour stocker les DataFrames tronqués\n",
        "truncated_dataframes = {}\n",
        "\n",
        "# Parcourir chaque DataFrame dans le dictionnaire\n",
        "for key, df in the230.items():\n",
        "    # Tronquer le DataFrame à 5250 lignes\n",
        "    truncated_dataframes[key] = df.head(5250)\n",
        "\n",
        "# Remplacer le dictionnaire original par le dictionnaire contenant les DataFrames tronqués\n",
        "the230 = truncated_dataframes"
      ],
      "metadata": {
        "id": "Yqe5bhYN_B0J"
      },
      "execution_count": null,
      "outputs": []
    },
    {
      "cell_type": "code",
      "source": [
        "data_with_labels = []\n",
        "\n",
        "# Label encoding for the tea types\n",
        "label_encoder = LabelEncoder()\n",
        "labels = ['vert', 'noir', 'blanc']\n",
        "encoded_labels = label_encoder.fit_transform(labels)\n",
        "\n",
        "# Iterate through the dictionary to process and label the data\n",
        "for key, df in the230.items():\n",
        "    # Ensure all values are floats\n",
        "    df = df.applymap(lambda x: float(str(x).replace(',', '.')))\n",
        "    # Assign labels based on the key\n",
        "    if key in vert_2301:\n",
        "        label = 'vert'\n",
        "    elif key in noir_2301:\n",
        "        label = 'noir'\n",
        "    elif key in blanc_2301:\n",
        "        label = 'blanc'\n",
        "    # Append the dataframe and its encoded label to the list\n",
        "    data_with_labels.append((df, label_encoder.transform([label])[0]))\n",
        "\n",
        "# Shuffle the data to ensure a good mix\n",
        "data_with_labels = shuffle(data_with_labels)\n",
        "\n",
        "\n",
        "# Separate the data and labels\n",
        "X_data = [data[0].values for data in data_with_labels]  # Convert DataFrame to numpy array\n",
        "y_labels = [data[1] for data in data_with_labels]\n",
        "\n",
        "# Normalize the data\n",
        "scaler = StandardScaler()\n",
        "X_data_normalized = [scaler.fit_transform(x) for x in X_data]\n",
        "\n",
        "# Split the dataset into training and test sets\n",
        "X_train, X_test, y_train, y_test = train_test_split(X_data_normalized, y_labels, test_size=0.4, random_state=42)\n",
        "\n",
        "# Convert lists to NumPy arrays\n",
        "X_train = np.array(X_train, dtype=object)\n",
        "X_test = np.array(X_test, dtype=object)\n",
        "y_train = np.array(y_train)\n",
        "y_test = np.array(y_test)\n",
        "\n",
        "# Ensure all input arrays have the same shape\n",
        "# This step is crucial and needs to be adjusted based on the actual shape of your data\n",
        "# For demonstration, let's assume all sequences are padded to have the same length\n",
        "\n",
        "X_train_padded = pad_sequences(X_train, dtype='float32', padding='post')\n",
        "X_test_padded = pad_sequences(X_test, dtype='float32', padding='post')\n",
        "\n",
        "model = Sequential([\n",
        "    Dense(64, activation='relu', input_shape=(X_train.shape[1],)),\n",
        "    Dense(64, activation='relu'),\n",
        "    Dense(64, activation='relu'),\n",
        "    Dense(3, activation='softmax')\n",
        "])\n",
        "\n",
        "\n",
        "# Compile the model\n",
        "model.compile(optimizer='adam', loss='sparse_categorical_crossentropy', metrics=['accuracy'])\n",
        "\n",
        "# Train the model\n",
        "model.fit(X_train_padded, y_train, epochs=20, batch_size=32, validation_split=0.2)\n",
        "\n",
        "# Evaluate the model\n",
        "test_loss, test_acc = model.evaluate(X_test_padded, y_test)\n",
        "print('Test accuracy:', test_acc)"
      ],
      "metadata": {
        "colab": {
          "base_uri": "https://localhost:8080/"
        },
        "id": "Su2f2pIhFfuF",
        "outputId": "6a2e544b-d27a-4fc8-fe9e-a6065001363d"
      },
      "execution_count": null,
      "outputs": [
        {
          "output_type": "stream",
          "name": "stdout",
          "text": [
            "Epoch 1/20\n",
            "1/1 [==============================] - 1s 1s/step - loss: 1.1073 - accuracy: 0.3929 - val_loss: 0.9480 - val_accuracy: 0.7500\n",
            "Epoch 2/20\n",
            "1/1 [==============================] - 0s 42ms/step - loss: 0.9914 - accuracy: 0.6786 - val_loss: 1.3149 - val_accuracy: 0.6250\n",
            "Epoch 3/20\n",
            "1/1 [==============================] - 0s 48ms/step - loss: 0.7440 - accuracy: 0.6786 - val_loss: 1.6806 - val_accuracy: 0.7500\n",
            "Epoch 4/20\n",
            "1/1 [==============================] - 0s 65ms/step - loss: 0.6563 - accuracy: 0.6786 - val_loss: 1.7447 - val_accuracy: 0.7500\n",
            "Epoch 5/20\n",
            "1/1 [==============================] - 0s 42ms/step - loss: 0.5545 - accuracy: 0.7857 - val_loss: 1.9162 - val_accuracy: 0.7500\n",
            "Epoch 6/20\n",
            "1/1 [==============================] - 0s 41ms/step - loss: 0.5240 - accuracy: 0.7857 - val_loss: 2.0996 - val_accuracy: 0.7500\n",
            "Epoch 7/20\n",
            "1/1 [==============================] - 0s 42ms/step - loss: 0.4425 - accuracy: 0.8214 - val_loss: 2.3250 - val_accuracy: 0.8750\n",
            "Epoch 8/20\n",
            "1/1 [==============================] - 0s 58ms/step - loss: 0.4318 - accuracy: 0.8214 - val_loss: 2.4481 - val_accuracy: 0.7500\n",
            "Epoch 9/20\n",
            "1/1 [==============================] - 0s 43ms/step - loss: 0.3864 - accuracy: 0.8214 - val_loss: 2.5414 - val_accuracy: 0.7500\n",
            "Epoch 10/20\n",
            "1/1 [==============================] - 0s 44ms/step - loss: 0.3400 - accuracy: 0.8571 - val_loss: 2.6447 - val_accuracy: 0.7500\n",
            "Epoch 11/20\n",
            "1/1 [==============================] - 0s 62ms/step - loss: 0.3357 - accuracy: 0.8571 - val_loss: 2.7384 - val_accuracy: 0.7500\n",
            "Epoch 12/20\n",
            "1/1 [==============================] - 0s 62ms/step - loss: 0.2923 - accuracy: 0.9286 - val_loss: 2.8448 - val_accuracy: 0.6250\n",
            "Epoch 13/20\n",
            "1/1 [==============================] - 0s 43ms/step - loss: 0.2702 - accuracy: 0.9286 - val_loss: 2.9207 - val_accuracy: 0.6250\n",
            "Epoch 14/20\n",
            "1/1 [==============================] - 0s 60ms/step - loss: 0.2599 - accuracy: 0.8929 - val_loss: 2.9250 - val_accuracy: 0.7500\n",
            "Epoch 15/20\n",
            "1/1 [==============================] - 0s 46ms/step - loss: 0.2221 - accuracy: 0.9286 - val_loss: 2.9582 - val_accuracy: 0.7500\n",
            "Epoch 16/20\n",
            "1/1 [==============================] - 0s 44ms/step - loss: 0.2076 - accuracy: 0.9643 - val_loss: 3.0378 - val_accuracy: 0.7500\n",
            "Epoch 17/20\n",
            "1/1 [==============================] - 0s 42ms/step - loss: 0.1868 - accuracy: 0.9643 - val_loss: 3.1271 - val_accuracy: 0.7500\n",
            "Epoch 18/20\n",
            "1/1 [==============================] - 0s 43ms/step - loss: 0.1600 - accuracy: 0.9643 - val_loss: 3.2339 - val_accuracy: 0.6250\n",
            "Epoch 19/20\n",
            "1/1 [==============================] - 0s 60ms/step - loss: 0.1490 - accuracy: 1.0000 - val_loss: 3.3091 - val_accuracy: 0.6250\n",
            "Epoch 20/20\n",
            "1/1 [==============================] - 0s 62ms/step - loss: 0.1359 - accuracy: 1.0000 - val_loss: 3.3696 - val_accuracy: 0.6250\n",
            "1/1 [==============================] - 0s 26ms/step - loss: 2.3293 - accuracy: 0.6250\n",
            "Test accuracy: 0.625\n"
          ]
        }
      ]
    },
    {
      "cell_type": "code",
      "source": [
        "# Faire des prédictions sur l'ensemble de test\n",
        "y_pred = model.predict(X_test_padded)\n",
        "\n",
        "# Convertir les prédictions en classes prédites (indices)\n",
        "y_pred_classes = np.argmax(y_pred, axis=1)\n",
        "\n",
        "# Calculer la matrice de confusion\n",
        "conf_matrix = confusion_matrix(y_test, y_pred_classes)\n",
        "\n",
        "# Définir l'ordre des étiquettes à afficher\n",
        "label_order = ['blanc', 'noir', 'vert']\n",
        "\n",
        "# Afficher la matrice de confusion avec les étiquettes dans l'ordre spécifié\n",
        "plt.figure(figsize=(8, 6))\n",
        "sns.heatmap(conf_matrix, annot=True, fmt='d', cmap='Blues', xticklabels=label_order, yticklabels=label_order)\n",
        "plt.xlabel('Classe prédite')\n",
        "plt.ylabel('Classe réelle')\n",
        "plt.title('Matrice de confusion')\n",
        "plt.show()\n",
        "\n",
        "\n"
      ],
      "metadata": {
        "id": "B9cORemaZoGY",
        "colab": {
          "base_uri": "https://localhost:8080/",
          "height": 582
        },
        "outputId": "0c4d00a7-a1c3-4272-f2e5-3187e44db5a6"
      },
      "execution_count": null,
      "outputs": [
        {
          "output_type": "stream",
          "name": "stdout",
          "text": [
            "1/1 [==============================] - 0s 71ms/step\n"
          ]
        },
        {
          "output_type": "display_data",
          "data": {
            "text/plain": [
              "<Figure size 800x600 with 2 Axes>"
            ],
            "image/png": "[encoded data removed]"
          },
          "metadata": {}
        }
      ]
    },
    {
      "cell_type": "code",
      "source": [],
      "metadata": {
        "id": "F7-M9MwLOXG0"
      },
      "execution_count": null,
      "outputs": []
    }
  ]
}